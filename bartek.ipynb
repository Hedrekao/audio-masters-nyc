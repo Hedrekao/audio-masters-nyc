{
 "cells": [
  {
   "cell_type": "code",
   "execution_count": 2,
   "metadata": {},
   "outputs": [
    {
     "data": {
      "text/plain": [
       "<_io.BufferedRandom name='trimmed_audio.wav'>"
      ]
     },
     "execution_count": 2,
     "metadata": {},
     "output_type": "execute_result"
    }
   ],
   "source": [
    "# Trim the audio so that we have 3 sec to train AI\n",
    "\n",
    "from pydub import AudioSegment \n",
    "\n",
    "audio_file = AudioSegment.from_wav(\"og_audio.wav\") \n",
    "\n",
    "first_3_seconds = audio_file[:10 * 300] \n",
    "\n",
    "first_3_seconds.export(\"trimmed_audio.wav\", format=\"wav\") "
   ]
  },
  {
   "cell_type": "code",
   "execution_count": 24,
   "metadata": {},
   "outputs": [
    {
     "name": "stdout",
     "output_type": "stream",
     "text": [
      "For my last holiday, I did a trip to Poland and a trip to Scotland. So, I started with a trip to Scotland to visit my friend for his wedding. It was a guy called Adam, I knew, he works for the fund as well. And we moved back to Poland with his girlfriend, who then very quickly became his fiancée. And...\n"
     ]
    }
   ],
   "source": [
    "from openai import OpenAI\n",
    "client = OpenAI(api_key='sk-proj-LkOmiWODw7EWRMniR3QKT3BlbkFJJMjOeAa2Ult4sRXSgZql')\n",
    "\n",
    "audio_file= open(\"quiet.wav\", \"rb\")\n",
    "transcription = client.audio.transcriptions.create(\n",
    "  model=\"whisper-1\", \n",
    "  file=audio_file\n",
    ")\n",
    "print(transcription.text)"
   ]
  },
  {
   "cell_type": "code",
   "execution_count": 19,
   "metadata": {},
   "outputs": [
    {
     "name": "stdout",
     "output_type": "stream",
     "text": [
      "ChatCompletionMessage(content='In the realm of code, a concept profound,\\nRecursion whispers, unique and unbound.\\nLike a mirror reflecting its own reflection,\\nA function calls itself, a powerful connection.\\n\\nThrough loops of self, it journeys deep,\\nSolving problems complex, in dreams it seeps.\\nA dance of echoes, reverberating in time,\\nUnraveling mysteries, a poetic rhyme.\\n\\nWith elegance and grace, it weaves its tale,\\nDividing tasks, without fail.\\nA fractal pattern, expanding wide,\\nInfinite layers, where solutions hide.\\n\\nThrough branches of function, it travels far,\\nIn a recursive journey, like a shooting star.\\nAn endless cycle, a programming art,\\nRecursion enchants, touching the heart.', role='assistant', function_call=None, tool_calls=None)\n"
     ]
    }
   ],
   "source": [
    "from openai import OpenAI\n",
    "client = OpenAI(api_key='sk-proj-LkOmiWODw7EWRMniR3QKT3BlbkFJJMjOeAa2Ult4sRXSgZql')\n",
    "\n",
    "completion = client.chat.completions.create(\n",
    "  model=\"gpt-3.5-turbo\",\n",
    "  messages=[\n",
    "    {\"role\": \"system\", \"content\": \"You are a poetic assistant, skilled in explaining complex programming concepts with creative flair.\"},\n",
    "    {\"role\": \"user\", \"content\": \"Compose a poem that explains the concept of recursion in programming.\"}\n",
    "  ]\n",
    ")\n",
    "\n",
    "print(completion.choices[0].message)"
   ]
  }
 ],
 "metadata": {
  "kernelspec": {
   "display_name": "Python 3",
   "language": "python",
   "name": "python3"
  },
  "language_info": {
   "codemirror_mode": {
    "name": "ipython",
    "version": 3
   },
   "file_extension": ".py",
   "mimetype": "text/x-python",
   "name": "python",
   "nbconvert_exporter": "python",
   "pygments_lexer": "ipython3",
   "version": "3.11.5"
  }
 },
 "nbformat": 4,
 "nbformat_minor": 2
}
